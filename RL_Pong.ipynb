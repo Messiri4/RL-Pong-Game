{
  "nbformat": 4,
  "nbformat_minor": 0,
  "metadata": {
    "colab": {
      "provenance": [],
      "gpuType": "T4"
    },
    "kernelspec": {
      "name": "python3",
      "display_name": "Python 3"
    },
    "language_info": {
      "name": "python"
    },
    "accelerator": "GPU"
  },
  "cells": [
    {
      "cell_type": "markdown",
      "source": [
        "## Installing Dependencies\n",
        "The initial cells ensure that the necessary Python libraries are installed. These include:\n",
        "\n",
        "- `numpy` for numerical computations\n",
        "- `matplotlib` for visualization\n",
        "- `gymnasium` for simulating the Pong environment\n",
        "- `ale-py` for Atari Learning Environment (ALE) support\n",
        "\n",
        "\n",
        "These installations allow the notebook to run reinforcement learning experiments using the Pong game environment.\n"
      ],
      "metadata": {
        "id": "47AvhsJwFMQs"
      }
    },
    {
      "cell_type": "code",
      "execution_count": 1,
      "metadata": {
        "colab": {
          "base_uri": "https://localhost:8080/"
        },
        "id": "Gjw88-itrQjt",
        "outputId": "da60199f-14e1-40a4-ad2a-bf4424e4038a"
      },
      "outputs": [
        {
          "output_type": "stream",
          "name": "stdout",
          "text": [
            "Requirement already satisfied: numpy in /usr/local/lib/python3.11/dist-packages (2.0.2)\n",
            "Requirement already satisfied: matplotlib in /usr/local/lib/python3.11/dist-packages (3.10.0)\n",
            "Requirement already satisfied: contourpy>=1.0.1 in /usr/local/lib/python3.11/dist-packages (from matplotlib) (1.3.1)\n",
            "Requirement already satisfied: cycler>=0.10 in /usr/local/lib/python3.11/dist-packages (from matplotlib) (0.12.1)\n",
            "Requirement already satisfied: fonttools>=4.22.0 in /usr/local/lib/python3.11/dist-packages (from matplotlib) (4.56.0)\n",
            "Requirement already satisfied: kiwisolver>=1.3.1 in /usr/local/lib/python3.11/dist-packages (from matplotlib) (1.4.8)\n",
            "Requirement already satisfied: packaging>=20.0 in /usr/local/lib/python3.11/dist-packages (from matplotlib) (24.2)\n",
            "Requirement already satisfied: pillow>=8 in /usr/local/lib/python3.11/dist-packages (from matplotlib) (11.1.0)\n",
            "Requirement already satisfied: pyparsing>=2.3.1 in /usr/local/lib/python3.11/dist-packages (from matplotlib) (3.2.1)\n",
            "Requirement already satisfied: python-dateutil>=2.7 in /usr/local/lib/python3.11/dist-packages (from matplotlib) (2.8.2)\n",
            "Requirement already satisfied: six>=1.5 in /usr/local/lib/python3.11/dist-packages (from python-dateutil>=2.7->matplotlib) (1.17.0)\n"
          ]
        }
      ],
      "source": [
        "!pip install numpy matplotlib"
      ]
    },
    {
      "cell_type": "code",
      "source": [
        "!pip install gymnasium[atari,accept-rom-license] --upgrade"
      ],
      "metadata": {
        "colab": {
          "base_uri": "https://localhost:8080/"
        },
        "id": "XXc6PvJM-sno",
        "outputId": "1f57eebb-820d-4a10-c13a-d3ea24e8cb10"
      },
      "execution_count": 2,
      "outputs": [
        {
          "output_type": "stream",
          "name": "stdout",
          "text": [
            "Requirement already satisfied: gymnasium[accept-rom-license,atari] in /usr/local/lib/python3.11/dist-packages (1.1.1)\n",
            "\u001b[33mWARNING: gymnasium 1.1.1 does not provide the extra 'accept-rom-license'\u001b[0m\u001b[33m\n",
            "\u001b[0mRequirement already satisfied: numpy>=1.21.0 in /usr/local/lib/python3.11/dist-packages (from gymnasium[accept-rom-license,atari]) (2.0.2)\n",
            "Requirement already satisfied: cloudpickle>=1.2.0 in /usr/local/lib/python3.11/dist-packages (from gymnasium[accept-rom-license,atari]) (3.1.1)\n",
            "Requirement already satisfied: typing-extensions>=4.3.0 in /usr/local/lib/python3.11/dist-packages (from gymnasium[accept-rom-license,atari]) (4.12.2)\n",
            "Requirement already satisfied: farama-notifications>=0.0.1 in /usr/local/lib/python3.11/dist-packages (from gymnasium[accept-rom-license,atari]) (0.0.4)\n",
            "Requirement already satisfied: ale_py>=0.9 in /usr/local/lib/python3.11/dist-packages (from gymnasium[accept-rom-license,atari]) (0.10.2)\n"
          ]
        }
      ]
    },
    {
      "cell_type": "code",
      "source": [
        "# Install dependencies if needed (uncomment the next line)\n",
        "# !pip install gym torch numpy matplotlib\n",
        "!pip install ale-py"
      ],
      "metadata": {
        "colab": {
          "base_uri": "https://localhost:8080/"
        },
        "id": "XJuqq5i-0fnz",
        "outputId": "05c5a621-fbeb-4c5d-83ba-74e13548b7a1"
      },
      "execution_count": 3,
      "outputs": [
        {
          "output_type": "stream",
          "name": "stdout",
          "text": [
            "Requirement already satisfied: ale-py in /usr/local/lib/python3.11/dist-packages (0.10.2)\n",
            "Requirement already satisfied: numpy>1.20 in /usr/local/lib/python3.11/dist-packages (from ale-py) (2.0.2)\n"
          ]
        }
      ]
    },
    {
      "cell_type": "code",
      "source": [
        "!pip install autorom[accept-rom-license]"
      ],
      "metadata": {
        "colab": {
          "base_uri": "https://localhost:8080/"
        },
        "id": "Ihr9csDhL1GU",
        "outputId": "1d09d9e1-f3ad-4fe7-9b5c-8e317ed362d6"
      },
      "execution_count": 4,
      "outputs": [
        {
          "output_type": "stream",
          "name": "stdout",
          "text": [
            "Collecting autorom[accept-rom-license]\n",
            "  Downloading AutoROM-0.6.1-py3-none-any.whl.metadata (2.4 kB)\n",
            "Requirement already satisfied: click in /usr/local/lib/python3.11/dist-packages (from autorom[accept-rom-license]) (8.1.8)\n",
            "Requirement already satisfied: requests in /usr/local/lib/python3.11/dist-packages (from autorom[accept-rom-license]) (2.32.3)\n",
            "Collecting AutoROM.accept-rom-license (from autorom[accept-rom-license])\n",
            "  Downloading AutoROM.accept-rom-license-0.6.1.tar.gz (434 kB)\n",
            "\u001b[2K     \u001b[90m━━━━━━━━━━━━━━━━━━━━━━━━━━━━━━━━━━━━━━━━\u001b[0m \u001b[32m434.7/434.7 kB\u001b[0m \u001b[31m9.8 MB/s\u001b[0m eta \u001b[36m0:00:00\u001b[0m\n",
            "\u001b[?25h  Installing build dependencies ... \u001b[?25l\u001b[?25hdone\n",
            "  Getting requirements to build wheel ... \u001b[?25l\u001b[?25hdone\n",
            "  Preparing metadata (pyproject.toml) ... \u001b[?25l\u001b[?25hdone\n",
            "Requirement already satisfied: charset-normalizer<4,>=2 in /usr/local/lib/python3.11/dist-packages (from requests->autorom[accept-rom-license]) (3.4.1)\n",
            "Requirement already satisfied: idna<4,>=2.5 in /usr/local/lib/python3.11/dist-packages (from requests->autorom[accept-rom-license]) (3.10)\n",
            "Requirement already satisfied: urllib3<3,>=1.21.1 in /usr/local/lib/python3.11/dist-packages (from requests->autorom[accept-rom-license]) (2.3.0)\n",
            "Requirement already satisfied: certifi>=2017.4.17 in /usr/local/lib/python3.11/dist-packages (from requests->autorom[accept-rom-license]) (2025.1.31)\n",
            "Downloading AutoROM-0.6.1-py3-none-any.whl (9.4 kB)\n",
            "Building wheels for collected packages: AutoROM.accept-rom-license\n",
            "  Building wheel for AutoROM.accept-rom-license (pyproject.toml) ... \u001b[?25l\u001b[?25hdone\n",
            "  Created wheel for AutoROM.accept-rom-license: filename=autorom_accept_rom_license-0.6.1-py3-none-any.whl size=446711 sha256=582b552f65d7f556f54b343d5f1b8a57e206ed46beefcc3088894dae37701818\n",
            "  Stored in directory: /root/.cache/pip/wheels/bc/fc/c6/8aa657c0d2089982f2dabd110efc68c61eb49831fdb7397351\n",
            "Successfully built AutoROM.accept-rom-license\n",
            "Installing collected packages: AutoROM.accept-rom-license, autorom\n",
            "Successfully installed AutoROM.accept-rom-license-0.6.1 autorom-0.6.1\n"
          ]
        }
      ]
    },
    {
      "cell_type": "code",
      "source": [
        "!pip install atari_py"
      ],
      "metadata": {
        "colab": {
          "base_uri": "https://localhost:8080/"
        },
        "id": "2nYxwfu8MGhW",
        "outputId": "448eccbe-6bb1-45fd-a90d-c6eb541dfade"
      },
      "execution_count": 5,
      "outputs": [
        {
          "output_type": "stream",
          "name": "stdout",
          "text": [
            "Collecting atari_py\n",
            "  Downloading atari-py-0.2.9.tar.gz (540 kB)\n",
            "\u001b[?25l     \u001b[90m━━━━━━━━━━━━━━━━━━━━━━━━━━━━━━━━━━━━━━━━\u001b[0m \u001b[32m0.0/540.6 kB\u001b[0m \u001b[31m?\u001b[0m eta \u001b[36m-:--:--\u001b[0m\r\u001b[2K     \u001b[91m━━━━━━━━━━━━━━━━━━━━━━━━━━━━━━━\u001b[0m\u001b[91m╸\u001b[0m\u001b[90m━━━━━━━━\u001b[0m \u001b[32m430.1/540.6 kB\u001b[0m \u001b[31m12.8 MB/s\u001b[0m eta \u001b[36m0:00:01\u001b[0m\r\u001b[2K     \u001b[90m━━━━━━━━━━━━━━━━━━━━━━━━━━━━━━━━━━━━━━━━\u001b[0m \u001b[32m540.6/540.6 kB\u001b[0m \u001b[31m8.7 MB/s\u001b[0m eta \u001b[36m0:00:00\u001b[0m\n",
            "\u001b[?25h  Preparing metadata (setup.py) ... \u001b[?25l\u001b[?25hdone\n",
            "Requirement already satisfied: numpy in /usr/local/lib/python3.11/dist-packages (from atari_py) (2.0.2)\n",
            "Requirement already satisfied: six in /usr/local/lib/python3.11/dist-packages (from atari_py) (1.17.0)\n",
            "Building wheels for collected packages: atari_py\n",
            "  Building wheel for atari_py (setup.py) ... \u001b[?25l\u001b[?25hdone\n",
            "  Created wheel for atari_py: filename=atari_py-0.2.9-cp311-cp311-linux_x86_64.whl size=2871997 sha256=13b0c8bbeb651d914f577540f32723ff0cc1e88fa064413e8835e5beacbab38c\n",
            "  Stored in directory: /root/.cache/pip/wheels/88/bb/c9/355a2560e9a75e6800cd54c37a19ca22badc1cf6a8b4a34c1b\n",
            "Successfully built atari_py\n",
            "Installing collected packages: atari_py\n",
            "Successfully installed atari_py-0.2.9\n"
          ]
        }
      ]
    },
    {
      "cell_type": "code",
      "source": [
        "!pip install ale-py\n",
        "!pip install autorom[accept-rom-license]"
      ],
      "metadata": {
        "colab": {
          "base_uri": "https://localhost:8080/"
        },
        "id": "nllMJQJrNNTF",
        "outputId": "206f031d-787a-47a8-b7dd-e0fdef7e252d"
      },
      "execution_count": 6,
      "outputs": [
        {
          "output_type": "stream",
          "name": "stdout",
          "text": [
            "Requirement already satisfied: ale-py in /usr/local/lib/python3.11/dist-packages (0.10.2)\n",
            "Requirement already satisfied: numpy>1.20 in /usr/local/lib/python3.11/dist-packages (from ale-py) (2.0.2)\n",
            "Requirement already satisfied: autorom[accept-rom-license] in /usr/local/lib/python3.11/dist-packages (0.6.1)\n",
            "Requirement already satisfied: click in /usr/local/lib/python3.11/dist-packages (from autorom[accept-rom-license]) (8.1.8)\n",
            "Requirement already satisfied: requests in /usr/local/lib/python3.11/dist-packages (from autorom[accept-rom-license]) (2.32.3)\n",
            "Requirement already satisfied: AutoROM.accept-rom-license in /usr/local/lib/python3.11/dist-packages (from autorom[accept-rom-license]) (0.6.1)\n",
            "Requirement already satisfied: charset-normalizer<4,>=2 in /usr/local/lib/python3.11/dist-packages (from requests->autorom[accept-rom-license]) (3.4.1)\n",
            "Requirement already satisfied: idna<4,>=2.5 in /usr/local/lib/python3.11/dist-packages (from requests->autorom[accept-rom-license]) (3.10)\n",
            "Requirement already satisfied: urllib3<3,>=1.21.1 in /usr/local/lib/python3.11/dist-packages (from requests->autorom[accept-rom-license]) (2.3.0)\n",
            "Requirement already satisfied: certifi>=2017.4.17 in /usr/local/lib/python3.11/dist-packages (from requests->autorom[accept-rom-license]) (2025.1.31)\n"
          ]
        }
      ]
    },
    {
      "cell_type": "code",
      "source": [
        "!pip install pyvirtualdisplay\n",
        "!apt-get install -y xvfb"
      ],
      "metadata": {
        "colab": {
          "base_uri": "https://localhost:8080/"
        },
        "id": "_W3bYoya_5g-",
        "outputId": "c8aa7543-49a8-447b-df3c-1b52c925965b"
      },
      "execution_count": 7,
      "outputs": [
        {
          "output_type": "stream",
          "name": "stdout",
          "text": [
            "Collecting pyvirtualdisplay\n",
            "  Downloading PyVirtualDisplay-3.0-py3-none-any.whl.metadata (943 bytes)\n",
            "Downloading PyVirtualDisplay-3.0-py3-none-any.whl (15 kB)\n",
            "Installing collected packages: pyvirtualdisplay\n",
            "Successfully installed pyvirtualdisplay-3.0\n",
            "Reading package lists... Done\n",
            "Building dependency tree... Done\n",
            "Reading state information... Done\n",
            "The following additional packages will be installed:\n",
            "  libfontenc1 libxfont2 libxkbfile1 x11-xkb-utils xfonts-base xfonts-encodings xfonts-utils\n",
            "  xserver-common\n",
            "The following NEW packages will be installed:\n",
            "  libfontenc1 libxfont2 libxkbfile1 x11-xkb-utils xfonts-base xfonts-encodings xfonts-utils\n",
            "  xserver-common xvfb\n",
            "0 upgraded, 9 newly installed, 0 to remove and 29 not upgraded.\n",
            "Need to get 7,814 kB of archives.\n",
            "After this operation, 12.0 MB of additional disk space will be used.\n",
            "Get:1 http://archive.ubuntu.com/ubuntu jammy/main amd64 libfontenc1 amd64 1:1.1.4-1build3 [14.7 kB]\n",
            "Get:2 http://archive.ubuntu.com/ubuntu jammy/main amd64 libxfont2 amd64 1:2.0.5-1build1 [94.5 kB]\n",
            "Get:3 http://archive.ubuntu.com/ubuntu jammy/main amd64 libxkbfile1 amd64 1:1.1.0-1build3 [71.8 kB]\n",
            "Get:4 http://archive.ubuntu.com/ubuntu jammy/main amd64 x11-xkb-utils amd64 7.7+5build4 [172 kB]\n",
            "Get:5 http://archive.ubuntu.com/ubuntu jammy/main amd64 xfonts-encodings all 1:1.0.5-0ubuntu2 [578 kB]\n",
            "Get:6 http://archive.ubuntu.com/ubuntu jammy/main amd64 xfonts-utils amd64 1:7.7+6build2 [94.6 kB]\n",
            "Get:7 http://archive.ubuntu.com/ubuntu jammy/main amd64 xfonts-base all 1:1.0.5 [5,896 kB]\n",
            "Get:8 http://archive.ubuntu.com/ubuntu jammy-updates/main amd64 xserver-common all 2:21.1.4-2ubuntu1.7~22.04.13 [29.1 kB]\n",
            "Get:9 http://archive.ubuntu.com/ubuntu jammy-updates/universe amd64 xvfb amd64 2:21.1.4-2ubuntu1.7~22.04.13 [863 kB]\n",
            "Fetched 7,814 kB in 1s (7,644 kB/s)\n",
            "Selecting previously unselected package libfontenc1:amd64.\n",
            "(Reading database ... 125044 files and directories currently installed.)\n",
            "Preparing to unpack .../0-libfontenc1_1%3a1.1.4-1build3_amd64.deb ...\n",
            "Unpacking libfontenc1:amd64 (1:1.1.4-1build3) ...\n",
            "Selecting previously unselected package libxfont2:amd64.\n",
            "Preparing to unpack .../1-libxfont2_1%3a2.0.5-1build1_amd64.deb ...\n",
            "Unpacking libxfont2:amd64 (1:2.0.5-1build1) ...\n",
            "Selecting previously unselected package libxkbfile1:amd64.\n",
            "Preparing to unpack .../2-libxkbfile1_1%3a1.1.0-1build3_amd64.deb ...\n",
            "Unpacking libxkbfile1:amd64 (1:1.1.0-1build3) ...\n",
            "Selecting previously unselected package x11-xkb-utils.\n",
            "Preparing to unpack .../3-x11-xkb-utils_7.7+5build4_amd64.deb ...\n",
            "Unpacking x11-xkb-utils (7.7+5build4) ...\n",
            "Selecting previously unselected package xfonts-encodings.\n",
            "Preparing to unpack .../4-xfonts-encodings_1%3a1.0.5-0ubuntu2_all.deb ...\n",
            "Unpacking xfonts-encodings (1:1.0.5-0ubuntu2) ...\n",
            "Selecting previously unselected package xfonts-utils.\n",
            "Preparing to unpack .../5-xfonts-utils_1%3a7.7+6build2_amd64.deb ...\n",
            "Unpacking xfonts-utils (1:7.7+6build2) ...\n",
            "Selecting previously unselected package xfonts-base.\n",
            "Preparing to unpack .../6-xfonts-base_1%3a1.0.5_all.deb ...\n",
            "Unpacking xfonts-base (1:1.0.5) ...\n",
            "Selecting previously unselected package xserver-common.\n",
            "Preparing to unpack .../7-xserver-common_2%3a21.1.4-2ubuntu1.7~22.04.13_all.deb ...\n",
            "Unpacking xserver-common (2:21.1.4-2ubuntu1.7~22.04.13) ...\n",
            "Selecting previously unselected package xvfb.\n",
            "Preparing to unpack .../8-xvfb_2%3a21.1.4-2ubuntu1.7~22.04.13_amd64.deb ...\n",
            "Unpacking xvfb (2:21.1.4-2ubuntu1.7~22.04.13) ...\n",
            "Setting up libfontenc1:amd64 (1:1.1.4-1build3) ...\n",
            "Setting up xfonts-encodings (1:1.0.5-0ubuntu2) ...\n",
            "Setting up libxkbfile1:amd64 (1:1.1.0-1build3) ...\n",
            "Setting up libxfont2:amd64 (1:2.0.5-1build1) ...\n",
            "Setting up x11-xkb-utils (7.7+5build4) ...\n",
            "Setting up xfonts-utils (1:7.7+6build2) ...\n",
            "Setting up xfonts-base (1:1.0.5) ...\n",
            "Setting up xserver-common (2:21.1.4-2ubuntu1.7~22.04.13) ...\n",
            "Setting up xvfb (2:21.1.4-2ubuntu1.7~22.04.13) ...\n",
            "Processing triggers for man-db (2.10.2-1) ...\n",
            "Processing triggers for fontconfig (2.13.1-4.2ubuntu5) ...\n",
            "Processing triggers for libc-bin (2.35-0ubuntu3.8) ...\n",
            "/sbin/ldconfig.real: /usr/local/lib/libumf.so.0 is not a symbolic link\n",
            "\n",
            "/sbin/ldconfig.real: /usr/local/lib/libtbb.so.12 is not a symbolic link\n",
            "\n",
            "/sbin/ldconfig.real: /usr/local/lib/libtbbbind_2_0.so.3 is not a symbolic link\n",
            "\n",
            "/sbin/ldconfig.real: /usr/local/lib/libur_loader.so.0 is not a symbolic link\n",
            "\n",
            "/sbin/ldconfig.real: /usr/local/lib/libtcm.so.1 is not a symbolic link\n",
            "\n",
            "/sbin/ldconfig.real: /usr/local/lib/libtbbbind.so.3 is not a symbolic link\n",
            "\n",
            "/sbin/ldconfig.real: /usr/local/lib/libur_adapter_level_zero.so.0 is not a symbolic link\n",
            "\n",
            "/sbin/ldconfig.real: /usr/local/lib/libtbbmalloc.so.2 is not a symbolic link\n",
            "\n",
            "/sbin/ldconfig.real: /usr/local/lib/libhwloc.so.15 is not a symbolic link\n",
            "\n",
            "/sbin/ldconfig.real: /usr/local/lib/libtcm_debug.so.1 is not a symbolic link\n",
            "\n",
            "/sbin/ldconfig.real: /usr/local/lib/libtbbbind_2_5.so.3 is not a symbolic link\n",
            "\n",
            "/sbin/ldconfig.real: /usr/local/lib/libur_adapter_opencl.so.0 is not a symbolic link\n",
            "\n",
            "/sbin/ldconfig.real: /usr/local/lib/libtbbmalloc_proxy.so.2 is not a symbolic link\n",
            "\n"
          ]
        }
      ]
    },
    {
      "cell_type": "markdown",
      "source": [
        "## Importing Required Libraries\n",
        "After installing dependencies, the script imports necessary modules:\n",
        "\n",
        "- `gymnasium` provides the Pong environment.\n",
        "- `numpy` is used for numerical operations.\n",
        "- `matplotlib.pyplot` is used for visualization.\n",
        "- `torch`, `torch.nn`, and `torch.optim` are used for implementing the neural network model and optimization.\n",
        "\n"
      ],
      "metadata": {
        "id": "14pG4E50CLbd"
      }
    },
    {
      "cell_type": "code",
      "source": [
        "### Step 1: Setup and Dependencies\n",
        "import gymnasium as gym\n",
        "import torch\n",
        "import torch.nn as nn\n",
        "import torch.optim as optim\n",
        "import numpy as np\n",
        "from collections import deque\n",
        "import random\n",
        "import atari_py  # Import atari_py to register the Atari environments\n",
        "import ale_py # import ale_py package"
      ],
      "metadata": {
        "id": "LYLPvsMi7qbk"
      },
      "execution_count": 8,
      "outputs": []
    },
    {
      "cell_type": "markdown",
      "source": [
        "## Setting Up the Pong Environment\n",
        "\n",
        "The script initializes the Pong environment using `gym.make()`:\n",
        "\n",
        "- The environment is created using `ALE/Pong-v5`.\n",
        "- `render_mode='rgb_array'` ensures that the environment renders frames as images.\n",
        "- `env.action_space.n` retrieves the number of possible actions the agent can take in the game.\n",
        "\n"
      ],
      "metadata": {
        "id": "0HRS794UCkeH"
      }
    },
    {
      "cell_type": "code",
      "source": [
        "# Initialize environment\n",
        "\n",
        "env = gym.make(\"ALE/Pong-v5\", render_mode=\"rgb_array\") # Changed environment ID"
      ],
      "metadata": {
        "id": "ZDiniK9SKmaW"
      },
      "execution_count": 9,
      "outputs": []
    },
    {
      "cell_type": "code",
      "source": [
        "print(\"Observation space:\", env.observation_space.shape)  # (210, 160, 3)\n",
        "print(\"Action space:\", env.action_space.n)  # 6 actions"
      ],
      "metadata": {
        "colab": {
          "base_uri": "https://localhost:8080/"
        },
        "id": "a2ZHP2EALIm_",
        "outputId": "7ff4a198-7c77-42c3-da6a-3c3c21b8bfea"
      },
      "execution_count": 10,
      "outputs": [
        {
          "output_type": "stream",
          "name": "stdout",
          "text": [
            "Observation space: (210, 160, 3)\n",
            "Action space: 6\n"
          ]
        }
      ]
    },
    {
      "cell_type": "markdown",
      "source": [
        "## Defining the Deep Q-Network (DQN)\n",
        "\n",
        "A neural network is used to approximate the Q-function, which estimates the expected reward for each action.\n",
        "\n",
        "- Uses convolutional layers to extract spatial features.\n",
        "- Fully connected layers map the extracted features to action values.\n",
        "\n"
      ],
      "metadata": {
        "id": "JUIPTM7vD22_"
      }
    },
    {
      "cell_type": "code",
      "source": [
        "### Step 2: Define the Neural Network\n",
        "\n",
        "# Define CNN-based DQN Model\n",
        "class CNN_DQN(nn.Module):\n",
        "    def __init__(self, input_shape, num_actions):\n",
        "        super(CNN_DQN, self).__init__()\n",
        "\n",
        "        # Define Convolutional Layers\n",
        "        self.conv_layers = nn.Sequential(\n",
        "            nn.Conv2d(4, 32, kernel_size=8, stride=4),  # Output: (32, 20, 20)\n",
        "            nn.ReLU(),\n",
        "            nn.Conv2d(32, 64, kernel_size=4, stride=2),  # Output: (64, 9, 9)\n",
        "            nn.ReLU(),\n",
        "            nn.Conv2d(64, 64, kernel_size=3, stride=1),  # Output: (64, 7, 7)\n",
        "            nn.ReLU(),\n",
        "        )\n",
        "\n",
        "        # Fully Connected Layers\n",
        "        # The output from the last convolution layer has the size: (64, 7, 7), so the input size to the fully connected layer should be 64*7*7\n",
        "        self.fc_layers = nn.Sequential(\n",
        "            nn.Linear(64 * 7 * 7, 512),  # Flattening (64 * 7 * 7 = 3136)\n",
        "            nn.ReLU(),\n",
        "            nn.Linear(512, num_actions)  # Output size: num_actions (number of possible actions)\n",
        "        )\n",
        "\n",
        "    def forward(self, x):\n",
        "        x = self.conv_layers(x)  # Apply convolutional layers\n",
        "        x = x.view(x.size(0), -1)  # Flatten the output to (batch_size, 3136)\n",
        "        return self.fc_layers(x)  # Pass through fully connected layers\n"
      ],
      "metadata": {
        "id": "l1ej-WwTldSu"
      },
      "execution_count": 11,
      "outputs": []
    },
    {
      "cell_type": "code",
      "source": [
        "# Initialize policy and target networks\n",
        "policy_net = CNN_DQN(env.observation_space.shape, env.action_space.n)\n",
        "target_net = CNN_DQN(env.observation_space.shape, env.action_space.n)\n",
        "target_net.load_state_dict(policy_net.state_dict())\n",
        "target_net.eval()\n",
        "\n",
        "# Optimizer and loss function\n",
        "optimizer = optim.Adam(policy_net.parameters(), lr=0.0001)\n",
        "criterion = nn.MSELoss()\n",
        "\n",
        "# Exploration parameters\n",
        "epsilon = 1.0\n",
        "epsilon_decay = 0.995\n",
        "epsilon_min = 0.05\n",
        "gamma = 0.99\n",
        "\n",
        "# Experience Replay\n",
        "replay_memory = deque(maxlen=100000)\n",
        "\n"
      ],
      "metadata": {
        "id": "tHKf_xt9KqOh"
      },
      "execution_count": 12,
      "outputs": []
    },
    {
      "cell_type": "markdown",
      "source": [
        "## Preprocessing Frames\n",
        "\n",
        "To simplify input to the neural network, frames are converted to grayscale and resized:\n",
        "\n",
        "- Crops the frame to remove unnecessary areas.\n",
        "- Converts the frame to grayscale by averaging color channels.\n",
        "- Downsamples the image to reduce computational complexity.\n"
      ],
      "metadata": {
        "id": "lWpWjODXHSKF"
      }
    },
    {
      "cell_type": "code",
      "source": [
        "# Function to preprocess frames\n",
        "import cv2\n",
        "\n",
        "def preprocess_frame(frame):\n",
        "    frame = cv2.cvtColor(frame, cv2.COLOR_RGB2GRAY)  # Convert to grayscale\n",
        "    frame = cv2.resize(frame, (84, 84))  # Resize\n",
        "    return frame / 255.0  # Normalize\n",
        "\n",
        "# Function to stack frames\n",
        "def stack_frames(frames, new_frame, is_new=False):\n",
        "    processed_frame = preprocess_frame(new_frame)\n",
        "    if is_new:\n",
        "        return np.stack([processed_frame] * 4, axis=0)\n",
        "    else:\n",
        "        frames[:-1] = frames[1:]  # Shift frames left\n",
        "        frames[-1] = processed_frame\n",
        "        return frames\n"
      ],
      "metadata": {
        "id": "bfHue8gfKqIL"
      },
      "execution_count": 13,
      "outputs": []
    },
    {
      "cell_type": "code",
      "source": [
        "\n",
        "\n",
        "import numpy as np\n",
        "\n",
        "# This is specific to the pong environment\n",
        "def img_crop(img):\n",
        "    return img[30:-12,:,:]\n",
        "\n",
        "# GENERAL Atari preprocessing steps\n",
        "def downsample(img):\n",
        "    # We will take only half of the image resolution\n",
        "    return img[::2, ::2]\n",
        "\n",
        "def transform_reward(reward):\n",
        "    return np.sign(reward)\n",
        "\n",
        "def to_grayscale(img):\n",
        "    return np.mean(img, axis=2).astype(np.uint8)\n",
        "\n",
        "# Normalize grayscale image from -1 to 1.\n",
        "def normalize_grayscale(img):\n",
        "    return (img - 128) / 128 - 1\n",
        "\n",
        "def process_frame(img, image_shape):\n",
        "    img = img_crop(img)\n",
        "    img = downsample(img)    # Crop and downsize (by 2)\n",
        "    img = to_grayscale(img)       # Convert to greyscale by averaging the RGB values\n",
        "    img = normalize_grayscale(img)  # Normalize from -1 to 1.\n",
        "\n",
        "    return np.expand_dims(img.reshape(image_shape[0], image_shape[1], 1), axis=0)"
      ],
      "metadata": {
        "id": "NP74j0gYKqFg"
      },
      "execution_count": 14,
      "outputs": []
    },
    {
      "cell_type": "code",
      "source": [
        "env = gym.make(\"ALE/Pong-v5\", render_mode=\"rgb_array\") # Changed environment ID\n",
        "obs, _ = env.reset()\n"
      ],
      "metadata": {
        "id": "Dzt-CnNHVevn"
      },
      "execution_count": 17,
      "outputs": []
    },
    {
      "cell_type": "code",
      "source": [
        "obs"
      ],
      "metadata": {
        "colab": {
          "base_uri": "https://localhost:8080/",
          "height": 250
        },
        "id": "ac5Y_29UVzn2",
        "outputId": "a300331a-e80e-4341-d1f2-68da9153597b"
      },
      "execution_count": 18,
      "outputs": [
        {
          "output_type": "execute_result",
          "data": {
            "text/plain": [
              "array([[[  0,   0,   0],\n",
              "        [  0,   0,   0],\n",
              "        [  0,   0,   0],\n",
              "        ...,\n",
              "        [109, 118,  43],\n",
              "        [109, 118,  43],\n",
              "        [109, 118,  43]],\n",
              "\n",
              "       [[109, 118,  43],\n",
              "        [109, 118,  43],\n",
              "        [109, 118,  43],\n",
              "        ...,\n",
              "        [109, 118,  43],\n",
              "        [109, 118,  43],\n",
              "        [109, 118,  43]],\n",
              "\n",
              "       [[109, 118,  43],\n",
              "        [109, 118,  43],\n",
              "        [109, 118,  43],\n",
              "        ...,\n",
              "        [109, 118,  43],\n",
              "        [109, 118,  43],\n",
              "        [109, 118,  43]],\n",
              "\n",
              "       ...,\n",
              "\n",
              "       [[ 53,  95,  24],\n",
              "        [ 53,  95,  24],\n",
              "        [ 53,  95,  24],\n",
              "        ...,\n",
              "        [ 53,  95,  24],\n",
              "        [ 53,  95,  24],\n",
              "        [ 53,  95,  24]],\n",
              "\n",
              "       [[ 53,  95,  24],\n",
              "        [ 53,  95,  24],\n",
              "        [ 53,  95,  24],\n",
              "        ...,\n",
              "        [ 53,  95,  24],\n",
              "        [ 53,  95,  24],\n",
              "        [ 53,  95,  24]],\n",
              "\n",
              "       [[ 53,  95,  24],\n",
              "        [ 53,  95,  24],\n",
              "        [ 53,  95,  24],\n",
              "        ...,\n",
              "        [ 53,  95,  24],\n",
              "        [ 53,  95,  24],\n",
              "        [ 53,  95,  24]]], dtype=uint8)"
            ],
            "text/html": [
              "<style>\n",
              "      .ndarray_repr .ndarray_raw_data {\n",
              "        display: none;\n",
              "      }\n",
              "      .ndarray_repr.show_array .ndarray_raw_data {\n",
              "        display: block;\n",
              "      }\n",
              "      .ndarray_repr.show_array .ndarray_image_preview {\n",
              "        display: none;\n",
              "      }\n",
              "      </style>\n",
              "      <div id=\"id-4ed320ac-46ea-453c-8c22-3b58ed48e1bc\" class=\"ndarray_repr\"><pre>ndarray (210, 160, 3) <button style=\"padding: 0 2px;\">show data</button></pre><img src=\"data:image/png;base64,iVBORw0KGgoAAAANSUhEUgAAAKAAAADSCAIAAABCR1ywAAACh0lEQVR4nO3bPUoDURhAUSMD2lu4CDdgaZeVWNq6GVeSzjIbcBEp0sfOJsg0EgPODLmeUwXyMw8uHw/mTVZXP3h5ffjpLS7Ias6Qz0+nr/X2/jHDSuZx+Nyc/MztzXrSNVxP+ussTuA4geOGpS483mt/szdfuvFe+5u9+a+Y4DiB4wSOEzhO4DiB4wSOEzhO4DiB4wSOW+xe9H+4/zw25/3nMRMcJ3CcwHGzPpPF/ExwnMBxw3a3X3oNTMgExwkcJ3CcwHECxwkcJ3CcwHECxw2P93dLr4EJmeA4geMEjhM4TuA4geMEjhM4TuA4geOOgbe7vafvkkxwnMBxAscd/x/s0LDKBMcJHCdwnMBxAscJHCdwnMBxAscJHCdwnMBxAscJHCdwnMBxAscJHCdwnMBxAscJHCdwnMBxAscJHCdwnMBxAscJHCdwnMBxAscJHCdwnMBxAscJHCdwnMBxAscJHCdwnMBxAscJHDcsvQBOO3xuvl/f3qzP+q4JjhM4TuA4geMEjhM4TuA4geMEjhM4TuA4geMEjhM4TuA458EX4Nwz4DETHCdwnMBxAscJHCdwnMBxAscJHCdwnMBxAscJHCdwnMBxAscJHCdwnMBxAscJHCdwnMBxAscJHCdwnMBxAscJHCdwnMBxAscJHCdwnMBxAscJHCdwnMBxAscJHCdwnMBxAscJHCdwnMBxAscJHCdwnMBxAscJHCdwnMBxAscJHCdwnMBxAscJHCdwnMBxAscJHCdwnMBxAscJHCdwnMBxAscJHCdwnMBxAscJHCdwnMBxAscJHDdsd/ul18CETHCcwHECxwkcJ3CcwHECxwkcJ3CcwHECxwkcJ3CcwHECx30Bu1ci6JJ73gAAAAAASUVORK5CYII=\" class=\"ndarray_image_preview\" /><pre class=\"ndarray_raw_data\">array([[[  0,   0,   0],\n",
              "        [  0,   0,   0],\n",
              "        [  0,   0,   0],\n",
              "        ...,\n",
              "        [109, 118,  43],\n",
              "        [109, 118,  43],\n",
              "        [109, 118,  43]],\n",
              "\n",
              "       [[109, 118,  43],\n",
              "        [109, 118,  43],\n",
              "        [109, 118,  43],\n",
              "        ...,\n",
              "        [109, 118,  43],\n",
              "        [109, 118,  43],\n",
              "        [109, 118,  43]],\n",
              "\n",
              "       [[109, 118,  43],\n",
              "        [109, 118,  43],\n",
              "        [109, 118,  43],\n",
              "        ...,\n",
              "        [109, 118,  43],\n",
              "        [109, 118,  43],\n",
              "        [109, 118,  43]],\n",
              "\n",
              "       ...,\n",
              "\n",
              "       [[ 53,  95,  24],\n",
              "        [ 53,  95,  24],\n",
              "        [ 53,  95,  24],\n",
              "        ...,\n",
              "        [ 53,  95,  24],\n",
              "        [ 53,  95,  24],\n",
              "        [ 53,  95,  24]],\n",
              "\n",
              "       [[ 53,  95,  24],\n",
              "        [ 53,  95,  24],\n",
              "        [ 53,  95,  24],\n",
              "        ...,\n",
              "        [ 53,  95,  24],\n",
              "        [ 53,  95,  24],\n",
              "        [ 53,  95,  24]],\n",
              "\n",
              "       [[ 53,  95,  24],\n",
              "        [ 53,  95,  24],\n",
              "        [ 53,  95,  24],\n",
              "        ...,\n",
              "        [ 53,  95,  24],\n",
              "        [ 53,  95,  24],\n",
              "        [ 53,  95,  24]]], dtype=uint8)</pre></div><script>\n",
              "      (() => {\n",
              "      const titles = ['show data', 'hide data'];\n",
              "      let index = 0\n",
              "      document.querySelector('#id-4ed320ac-46ea-453c-8c22-3b58ed48e1bc button').onclick = (e) => {\n",
              "        document.querySelector('#id-4ed320ac-46ea-453c-8c22-3b58ed48e1bc').classList.toggle('show_array');\n",
              "        index = (++index) % 2;\n",
              "        document.querySelector('#id-4ed320ac-46ea-453c-8c22-3b58ed48e1bc button').textContent = titles[index];\n",
              "        e.preventDefault();\n",
              "        e.stopPropagation();\n",
              "      }\n",
              "      })();\n",
              "    </script>"
            ]
          },
          "metadata": {},
          "execution_count": 18
        }
      ]
    },
    {
      "cell_type": "code",
      "source": [
        "processed_obs = process_frame(obs, (84, 80))  # Process the image"
      ],
      "metadata": {
        "id": "zSqBKTg9VetB"
      },
      "execution_count": 19,
      "outputs": []
    },
    {
      "cell_type": "code",
      "source": [
        "from collections import deque\n",
        "\n",
        "# Initialize 4-frame stack\n",
        "frame_stack = deque([processed_obs] * 4, maxlen=4)\n",
        "\n",
        "# Convert stack to NumPy array for CNN input\n",
        "stacked_state = np.array(frame_stack).reshape(1, 84, 80, 4)\n"
      ],
      "metadata": {
        "id": "tcNaa6AgVeqe"
      },
      "execution_count": 20,
      "outputs": []
    },
    {
      "cell_type": "code",
      "source": [
        "import matplotlib.pyplot as plt\n",
        "\n",
        "fig, ax = plt.subplots(1, 2, figsize=(10, 5))\n",
        "\n",
        "# Original Frame\n",
        "ax[0].imshow(obs)\n",
        "ax[0].set_title(\"Original Frame (RGB)\")\n",
        "ax[0].axis(\"off\")\n",
        "\n",
        "# Processed Frame\n",
        "ax[1].imshow(stacked_state.squeeze(), cmap=\"gray\")\n",
        "ax[1].set_title(\"Processed Frame (Grayscale)\")\n",
        "ax[1].axis(\"off\")\n",
        "\n",
        "plt.show()"
      ],
      "metadata": {
        "colab": {
          "base_uri": "https://localhost:8080/",
          "height": 482
        },
        "id": "yJ1yPqFFVelc",
        "outputId": "ba935c97-2121-4398-f5d3-880186d8666d"
      },
      "execution_count": 21,
      "outputs": [
        {
          "output_type": "stream",
          "name": "stderr",
          "text": [
            "WARNING:matplotlib.image:Clipping input data to the valid range for imshow with RGB data ([0..1] for floats or [0..255] for integers). Got range [-0.859375..0.703125].\n"
          ]
        },
        {
          "output_type": "display_data",
          "data": {
            "text/plain": [
              "<Figure size 1000x500 with 2 Axes>"
            ],
            "image/png": "[encoded data removed]"
          },
          "metadata": {}
        }
      ]
    },
    {
      "cell_type": "markdown",
      "source": [
        "# Calculate Rewards"
      ],
      "metadata": {
        "id": "EXBoY261HFY5"
      }
    },
    {
      "cell_type": "code",
      "source": [
        "def custom_reward(obs, reward, done, info):\n",
        "    \"\"\"\n",
        "    Calculates a custom reward based on game events.\n",
        "\n",
        "    Args:\n",
        "        obs (np.ndarray): The current observation of the environment.\n",
        "        reward (float): The original reward from the environment.\n",
        "        done (bool): Whether the episode is done.\n",
        "        info (dict): Information about the game state.\n",
        "\n",
        "    Returns:\n",
        "        float: The custom reward.\n",
        "    \"\"\"\n",
        "\n",
        "    # Get coordinates of objects (replace with logic specific to the game)\n",
        "    ball_x = info.get(\"ball_x\", 0)  # Replace \"ball_x\" with the actual key in 'info'\n",
        "    ball_y = info.get(\"ball_y\", 0)  # Replace \"ball_y\" with the actual key in 'info'\n",
        "    paddle_x = info.get(\"paddle_x\", 0)  # Replace \"paddle_x\" with the actual key in 'info'\n",
        "    paddle_y = info.get(\"paddle_y\", 0)  # Replace \"paddle_y\" with the actual key in 'info'\n",
        "\n",
        "    # Define events and calculate reward\n",
        "    ball_hits_paddle = abs(ball_x - paddle_x) < 5 and abs(ball_y - paddle_y) < 5\n",
        "    ball_missed = ball_x < paddle_x  # Ball passed the paddle\n",
        "    agent_moves_correctly = (ball_y - paddle_y) * info.get(\"paddle_velocity\", 0) > 0 # Paddle moving towards the ball\n",
        "\n",
        "    # Calculate reward\n",
        "    custom_reward = reward  # Start with the original reward\n",
        "\n",
        "    if ball_hits_paddle:\n",
        "        custom_reward += 0.1  # Small positive reward for hitting the ball\n",
        "\n",
        "    if ball_missed:\n",
        "        custom_reward -= 0.1  # Small penalty for missing\n",
        "\n",
        "    if agent_moves_correctly:\n",
        "        custom_reward += 0.05  # Encourage movement in the correct direction\n",
        "\n",
        "    return custom_reward\n"
      ],
      "metadata": {
        "id": "AlIich5UHs22"
      },
      "execution_count": 22,
      "outputs": []
    },
    {
      "cell_type": "markdown",
      "source": [
        "## Train the Agent\n",
        "\n",
        "The training loop involves:\n",
        "\n",
        "- Collecting experience by interacting with the environment.\n",
        "- Storing experiences in a replay buffer.\n",
        "- Sampling from the buffer to train the DQN.\n",
        "- Runs multiple episodes where the agent interacts with the game.\n",
        "- Selects an action using the current policy.\n",
        "- Stores experiences and updates the model.\n",
        "\n"
      ],
      "metadata": {
        "id": "asS3JfHdG0q0"
      }
    },
    {
      "cell_type": "code",
      "source": [
        "### Step 7: Train the Agent\n",
        "\n",
        "num_episodes = 10\n",
        "batch_size = 8\n",
        "target_update_freq = 1\n",
        "episode_rewards = []\n",
        "\n",
        "# Training loop\n",
        "for episode in range(num_episodes):\n",
        "    state, _ = env.reset()\n",
        "    state = stack_frames(None, state, is_new=True) # Stack initial frames\n",
        "    total_reward = 0\n",
        "    done = False\n",
        "\n",
        "    while not done:\n",
        "        # Choose action\n",
        "        state_tensor = torch.from_numpy(state).float().unsqueeze(0)  # Convert state to tensor and add batch dimension\n",
        "\n",
        "        if random.random() < epsilon:\n",
        "            action = env.action_space.sample() # Explore\n",
        "        else:\n",
        "          with torch.no_grad():  # Disable gradient calculation\n",
        "                action = torch.argmax(policy_net(state_tensor)).item()  # Exploit\n",
        "\n",
        "        # Take action\n",
        "        # The env.step() function now returns 5 values: observation, reward, terminated, truncated, info\n",
        "        next_state, reward, terminated, truncated, _ = env.step(action)\n",
        "        next_state = stack_frames(state, next_state) # Stack new frame\n",
        "\n",
        "        # Use terminated or truncated to check if the episode is done\n",
        "        done = terminated or truncated\n",
        "\n",
        "        obs, reward, terminated, truncated, info = env.step(action)\n",
        "        reward = custom_reward(obs, reward, done, info)\n",
        "\n",
        "\n",
        "        # Store in replay memory\n",
        "        replay_memory.append((state, action, reward, next_state, done))\n",
        "\n",
        "        # Sample from replay memory and train\n",
        "        if len(replay_memory) > batch_size:\n",
        "            # ... (code to sample from replay memory, calculate Q-values, loss, etc.) ...\n",
        "            pass\n",
        "\n",
        "        state = next_state # Update state\n",
        "\n",
        "        # Update the total reward for the episode\n",
        "        total_reward += reward\n",
        "\n",
        "        # Update epsilon\n",
        "        epsilon = max(epsilon * epsilon_decay, epsilon_min)\n",
        "\n",
        "        # Update target network periodically\n",
        "        if episode % target_update_freq == 0:\n",
        "            target_net.load_state_dict(policy_net.state_dict())\n",
        "\n",
        "      # Print total reward at the end of the episode\n",
        "    if episode % 1 == 0:\n",
        "        print(f\"Episode {episode}: Reward = {total_reward}, Epsilon = {epsilon:.3f}\")"
      ],
      "metadata": {
        "colab": {
          "base_uri": "https://localhost:8080/"
        },
        "id": "tntBCd5yVei2",
        "outputId": "9e0a7c08-3615-4eee-923e-d21d7f422b0e"
      },
      "execution_count": 23,
      "outputs": [
        {
          "output_type": "stream",
          "name": "stdout",
          "text": [
            "Episode 0: Reward = 30.900000000000244, Epsilon = 0.122\n",
            "Episode 1: Reward = 31.80000000000024, Epsilon = 0.050\n",
            "Episode 2: Reward = 30.300000000000217, Epsilon = 0.050\n",
            "Episode 3: Reward = 30.300000000000217, Epsilon = 0.050\n",
            "Episode 4: Reward = 30.400000000000237, Epsilon = 0.050\n",
            "Episode 5: Reward = 30.300000000000217, Epsilon = 0.050\n",
            "Episode 6: Reward = 27.300000000000175, Epsilon = 0.050\n",
            "Episode 7: Reward = 27.300000000000175, Epsilon = 0.050\n",
            "Episode 8: Reward = 27.300000000000175, Epsilon = 0.050\n",
            "Episode 9: Reward = 27.300000000000175, Epsilon = 0.050\n"
          ]
        }
      ]
    },
    {
      "cell_type": "markdown",
      "source": [
        "# Visualize the Environment\n",
        "\n",
        "Finally, the script evaluates the trained agent and visualizes its performance using `matplotlib`.\n",
        "\n",
        "- Runs the trained model in the environment.\n",
        "- Displays the game frame-by-frame."
      ],
      "metadata": {
        "id": "QxeH2h98GmYz"
      }
    },
    {
      "cell_type": "code",
      "source": [
        "import gymnasium as gym\n",
        "from pyvirtualdisplay import Display\n",
        "from IPython import display as ipythondisplay\n",
        "from PIL import Image\n",
        "import time\n",
        "\n",
        "display = Display(visible=0, size=(400, 300))\n",
        "display.start()\n",
        "\n",
        "env = gym.make(\"ALE/Pong-v5\", render_mode=\"rgb_array\")\n",
        "\n",
        "state, info = env.reset()\n",
        "for _ in range(100):\n",
        "    action = env.action_space.sample()\n",
        "    obs, reward, terminated, truncated, info = env.step(action)\n",
        "    try:\n",
        "       img = env.render()\n",
        "       if img is not None:\n",
        "           img = Image.fromarray(img)\n",
        "           ipythondisplay.display(img)\n",
        "           ipythondisplay.clear_output(wait=True)\n",
        "           time.sleep(0.5)\n",
        "    except Exception as e:\n",
        "       print(f\"Error during rendering: {e}\")\n",
        "\n",
        "display.stop()\n",
        "env.close()"
      ],
      "metadata": {
        "colab": {
          "base_uri": "https://localhost:8080/",
          "height": 227
        },
        "id": "0rKkVc18Vegg",
        "outputId": "c2bdf2c6-f127-4090-d5d6-e07d41237ec2"
      },
      "execution_count": 24,
      "outputs": [
        {
          "output_type": "display_data",
          "data": {
            "text/plain": [
              "<PIL.Image.Image image mode=RGB size=160x210>"
            ],
            "image/png": "[encoded data removed]",
            "image/jpeg": "[encoded data removed]"
          },
          "metadata": {}
        }
      ]
    },
    {
      "cell_type": "markdown",
      "source": [
        "## Conclusion\n",
        "This notebook implements a Deep Q-Network (DQN) to train an AI agent for Pong. It preprocesses game frames, defines a neural network, trains using reinforcement learning, and visualizes performance.\n",
        "\n"
      ],
      "metadata": {
        "id": "Octg2DAHB2Jz"
      }
    },
    {
      "cell_type": "code",
      "source": [],
      "metadata": {
        "id": "ZC5BslACFkxm"
      },
      "execution_count": null,
      "outputs": []
    }
  ]
}